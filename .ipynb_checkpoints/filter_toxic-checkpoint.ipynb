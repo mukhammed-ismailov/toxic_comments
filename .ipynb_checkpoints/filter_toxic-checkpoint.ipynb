{
 "cells": [
  {
   "cell_type": "markdown",
   "id": "28610429",
   "metadata": {},
   "source": [
    "Фильтрация негативных коментариев\n",
    "---------\n",
    "------"
   ]
  },
  {
   "cell_type": "markdown",
   "id": "720e0853",
   "metadata": {},
   "source": [
    "Описание данных: \n",
    "-----\n",
    "\n",
    "Данные состоят из более чем 14 тысячь строк. \n",
    "\n",
    "Столбец  comment: Содержить информацию текст комментария\n",
    "\n",
    "и столбец toxic: Содержит информацию\n",
    "\n",
    "0 - комментарий нейтрален \n",
    "1 - комментарий токсичен\n",
    "------\n"
   ]
  },
  {
   "cell_type": "markdown",
   "id": "a5b1be5c",
   "metadata": {},
   "source": [
    "План \n",
    "----\n",
    "\n",
    "Загрузка и просмотр данных \n",
    "\n",
    "Предобработка и анализ данных \n",
    "\n",
    "Обучение модели \n",
    "\n",
    "Вывод\n",
    "\n",
    "-------"
   ]
  },
  {
   "cell_type": "code",
   "execution_count": 84,
   "id": "9e18a8f8",
   "metadata": {},
   "outputs": [],
   "source": [
    "import os\n",
    "import pandas as pd\n",
    "from pymystem3 import Mystem\n",
    "import re\n",
    "from tqdm import tqdm\n",
    "import nltk\n",
    "from nltk.corpus import stopwords as nltk_stopwords\n",
    "from sklearn.feature_extraction.text import TfidfVectorizer\n",
    "import seaborn as sns\n",
    "from matplotlib import pyplot as plt\n",
    "from sklearn.pipeline import  make_pipeline\n",
    "from sklearn.model_selection import GridSearchCV\n",
    "from sklearn.model_selection import train_test_split\n",
    "from sklearn.linear_model import LogisticRegression\n",
    "from sklearn.metrics import accuracy_score, confusion_matrix,  precision_score, recall_score, f1_score\n"
   ]
  },
  {
   "cell_type": "code",
   "execution_count": 85,
   "id": "48305272",
   "metadata": {},
   "outputs": [
    {
     "name": "stderr",
     "output_type": "stream",
     "text": [
      "[nltk_data] Downloading package stopwords to\n",
      "[nltk_data]     C:\\Users\\mukha\\AppData\\Roaming\\nltk_data...\n",
      "[nltk_data]   Package stopwords is already up-to-date!\n"
     ]
    }
   ],
   "source": [
    "\n",
    "RANDOM_STATE = 42\n",
    "\n",
    "m_steam = Mystem()\n",
    "\n",
    "nltk.download('stopwords')\n",
    "\n",
    "stopwords = list(nltk_stopwords.words('russian'))\n",
    "\n",
    "count_tf_idf = TfidfVectorizer(stop_words=stopwords)\n"
   ]
  },
  {
   "cell_type": "markdown",
   "id": "b4f17cc6",
   "metadata": {},
   "source": [
    "Загрузка и просмотр данных\n",
    "--"
   ]
  },
  {
   "cell_type": "code",
   "execution_count": 86,
   "id": "9eda6f79",
   "metadata": {},
   "outputs": [],
   "source": [
    "\n",
    "csv_file = 'labeled.csv' #'with_lemma.csv' \n",
    "    \n",
    "data = pd.read_csv(csv_file)"
   ]
  },
  {
   "cell_type": "code",
   "execution_count": 87,
   "id": "d2caa808",
   "metadata": {},
   "outputs": [
    {
     "data": {
      "text/html": [
       "<div>\n",
       "<style scoped>\n",
       "    .dataframe tbody tr th:only-of-type {\n",
       "        vertical-align: middle;\n",
       "    }\n",
       "\n",
       "    .dataframe tbody tr th {\n",
       "        vertical-align: top;\n",
       "    }\n",
       "\n",
       "    .dataframe thead th {\n",
       "        text-align: right;\n",
       "    }\n",
       "</style>\n",
       "<table border=\"1\" class=\"dataframe\">\n",
       "  <thead>\n",
       "    <tr style=\"text-align: right;\">\n",
       "      <th></th>\n",
       "      <th>comment</th>\n",
       "      <th>toxic</th>\n",
       "    </tr>\n",
       "  </thead>\n",
       "  <tbody>\n",
       "    <tr>\n",
       "      <th>0</th>\n",
       "      <td>Верблюдов-то за что? Дебилы, бл...\\n</td>\n",
       "      <td>1.0</td>\n",
       "    </tr>\n",
       "    <tr>\n",
       "      <th>1</th>\n",
       "      <td>Хохлы, это отдушина затюканого россиянина, мол...</td>\n",
       "      <td>1.0</td>\n",
       "    </tr>\n",
       "    <tr>\n",
       "      <th>2</th>\n",
       "      <td>Собаке - собачья смерть\\n</td>\n",
       "      <td>1.0</td>\n",
       "    </tr>\n",
       "    <tr>\n",
       "      <th>3</th>\n",
       "      <td>Страницу обнови, дебил. Это тоже не оскорблени...</td>\n",
       "      <td>1.0</td>\n",
       "    </tr>\n",
       "    <tr>\n",
       "      <th>4</th>\n",
       "      <td>тебя не убедил 6-страничный пдф в том, что Скр...</td>\n",
       "      <td>1.0</td>\n",
       "    </tr>\n",
       "  </tbody>\n",
       "</table>\n",
       "</div>"
      ],
      "text/plain": [
       "                                             comment  toxic\n",
       "0               Верблюдов-то за что? Дебилы, бл...\\n    1.0\n",
       "1  Хохлы, это отдушина затюканого россиянина, мол...    1.0\n",
       "2                          Собаке - собачья смерть\\n    1.0\n",
       "3  Страницу обнови, дебил. Это тоже не оскорблени...    1.0\n",
       "4  тебя не убедил 6-страничный пдф в том, что Скр...    1.0"
      ]
     },
     "execution_count": 87,
     "metadata": {},
     "output_type": "execute_result"
    }
   ],
   "source": [
    "data.head()"
   ]
  },
  {
   "cell_type": "code",
   "execution_count": 88,
   "id": "f5f47218",
   "metadata": {},
   "outputs": [
    {
     "name": "stdout",
     "output_type": "stream",
     "text": [
      "<class 'pandas.core.frame.DataFrame'>\n",
      "RangeIndex: 14412 entries, 0 to 14411\n",
      "Data columns (total 2 columns):\n",
      " #   Column   Non-Null Count  Dtype  \n",
      "---  ------   --------------  -----  \n",
      " 0   comment  14412 non-null  object \n",
      " 1   toxic    14412 non-null  float64\n",
      "dtypes: float64(1), object(1)\n",
      "memory usage: 225.3+ KB\n"
     ]
    }
   ],
   "source": [
    "data.info()"
   ]
  },
  {
   "cell_type": "markdown",
   "id": "4534e048",
   "metadata": {},
   "source": [
    "Предобработка и анализ данных\n",
    "---"
   ]
  },
  {
   "cell_type": "code",
   "execution_count": 89,
   "id": "f79e7bd6",
   "metadata": {},
   "outputs": [],
   "source": [
    "data['toxic'] = data['toxic'].astype(int)"
   ]
  },
  {
   "cell_type": "code",
   "execution_count": 90,
   "id": "5e6bfd44",
   "metadata": {},
   "outputs": [],
   "source": [
    "#Отображает гистаграму распределения классов\n",
    "def histogram_show(data, col):\n",
    "    \n",
    "    data[col].hist()\n",
    "    plt.title('Количество комментариев')\n",
    "    plt.xlabel('Значение')\n",
    "    plt.ylabel('Количество')\n",
    "    plt.show()\n",
    "    "
   ]
  },
  {
   "cell_type": "code",
   "execution_count": 91,
   "id": "5d39534e",
   "metadata": {},
   "outputs": [
    {
     "data": {
      "image/png": "[encoded data removed]",
      "text/plain": [
       "<Figure size 640x480 with 1 Axes>"
      ]
     },
     "metadata": {},
     "output_type": "display_data"
    }
   ],
   "source": [
    "histogram_show(data,'toxic')"
   ]
  },
  {
   "cell_type": "code",
   "execution_count": 92,
   "id": "36baa023",
   "metadata": {},
   "outputs": [],
   "source": [
    "#отоброжает процентное соотношение классов\n",
    "def precent_show(data):\n",
    "    data.toxic.value_counts(normalize=True).plot(kind='bar')\n",
    "    plt.title('% toxic')\n",
    "    plt.ylabel('%')\n",
    "    plt.xlabel('Классы')\n",
    "    plt.show()\n"
   ]
  },
  {
   "cell_type": "code",
   "execution_count": 93,
   "id": "3587ca6d",
   "metadata": {},
   "outputs": [
    {
     "data": {
      "image/png": "[encoded data removed]",
      "text/plain": [
       "<Figure size 640x480 with 1 Axes>"
      ]
     },
     "metadata": {},
     "output_type": "display_data"
    }
   ],
   "source": [
    "precent_show(data)"
   ]
  },
  {
   "cell_type": "code",
   "execution_count": 94,
   "id": "da182280",
   "metadata": {},
   "outputs": [],
   "source": [
    "# Функция для лемматизация текста и очистки \n",
    "def lemma_text(text):\n",
    "    lemaized_text = \" \".join(m_steam.lemmatize(text))\n",
    "    cleare_text =  re.sub(r'[^а-яА-ЯёЁ ]', ' ',lemaized_text)\n",
    "    print(cleare_text)\n",
    "    return \" \".join(cleare_text.split())"
   ]
  },
  {
   "cell_type": "code",
   "execution_count": 35,
   "id": "5202e43e",
   "metadata": {},
   "outputs": [],
   "source": [
    "data['lemma_text'] = data['comment'].apply(lemma_text)"
   ]
  },
  {
   "cell_type": "code",
   "execution_count": 37,
   "id": "b5398593",
   "metadata": {},
   "outputs": [
    {
     "name": "stdout",
     "output_type": "stream",
     "text": [
      "<class 'pandas.core.frame.DataFrame'>\n",
      "Index: 14404 entries, 0 to 14411\n",
      "Data columns (total 3 columns):\n",
      " #   Column      Non-Null Count  Dtype \n",
      "---  ------      --------------  ----- \n",
      " 0   comment     14404 non-null  object\n",
      " 1   toxic       14404 non-null  int32 \n",
      " 2   lemma_text  14404 non-null  object\n",
      "dtypes: int32(1), object(2)\n",
      "memory usage: 393.9+ KB\n"
     ]
    }
   ],
   "source": [
    "data.info()"
   ]
  },
  {
   "cell_type": "code",
   "execution_count": 45,
   "id": "3f9530b7",
   "metadata": {},
   "outputs": [
    {
     "data": {
      "text/plain": [
       "268"
      ]
     },
     "execution_count": 45,
     "metadata": {},
     "output_type": "execute_result"
    }
   ],
   "source": [
    "data['lemma_text'].duplicated().sum()"
   ]
  },
  {
   "cell_type": "code",
   "execution_count": 46,
   "id": "d859790c",
   "metadata": {},
   "outputs": [
    {
     "name": "stdout",
     "output_type": "stream",
     "text": [
      "<class 'pandas.core.frame.DataFrame'>\n",
      "Index: 14404 entries, 0 to 14411\n",
      "Data columns (total 3 columns):\n",
      " #   Column      Non-Null Count  Dtype  \n",
      "---  ------      --------------  -----  \n",
      " 0   comment     14404 non-null  object \n",
      " 1   toxic       14404 non-null  float64\n",
      " 2   lemma_text  14404 non-null  object \n",
      "dtypes: float64(1), object(2)\n",
      "memory usage: 450.1+ KB\n"
     ]
    }
   ],
   "source": [
    "data = data.dropna()\n",
    "data['lemma_text'].drop_duplicates(keep='first' , inplace=True)\n",
    "data.info()"
   ]
  },
  {
   "cell_type": "markdown",
   "id": "936c80be",
   "metadata": {},
   "source": [
    "Разделим данные на бучающию и тестовую выборку"
   ]
  },
  {
   "cell_type": "code",
   "execution_count": 47,
   "id": "8eed0257",
   "metadata": {},
   "outputs": [],
   "source": [
    "#Разделим данные\n",
    "train_x, test_x , train_y, test_y = train_test_split(data['lemma_text'], data['toxic'], test_size=0.2)\n"
   ]
  },
  {
   "cell_type": "markdown",
   "id": "0565c6ac",
   "metadata": {},
   "source": [
    "Обучение модели\n",
    "---"
   ]
  },
  {
   "cell_type": "code",
   "execution_count": 48,
   "id": "72d464aa",
   "metadata": {},
   "outputs": [],
   "source": [
    "\n",
    "\n",
    "#Создадим и обучим модель LogisticRegression с балансировкой весов\n",
    "pipeline = make_pipeline(count_tf_idf,\n",
    "                              LogisticRegression(penalty='l1', solver='saga',class_weight='balanced',max_iter=5000))\n",
    "\n",
    "params={\n",
    "    'logisticregression__C':[4, 10, 2]\n",
    "}\n",
    "\n",
    "gs_lr = GridSearchCV(pipeline,\n",
    "                      params,\n",
    "                      cv=2,\n",
    "                      scoring='accuracy')\n"
   ]
  },
  {
   "cell_type": "code",
   "execution_count": 49,
   "id": "2bf2bc68",
   "metadata": {},
   "outputs": [
    {
     "name": "stdout",
     "output_type": "stream",
     "text": [
      "accuracy 0.8410137592897604\n",
      "Best model parameters Pipeline(steps=[('tfidfvectorizer',\n",
      "                 TfidfVectorizer(stop_words=['и', 'в', 'во', 'не', 'что', 'он',\n",
      "                                             'на', 'я', 'с', 'со', 'как', 'а',\n",
      "                                             'то', 'все', 'она', 'так', 'его',\n",
      "                                             'но', 'да', 'ты', 'к', 'у', 'же',\n",
      "                                             'вы', 'за', 'бы', 'по', 'только',\n",
      "                                             'ее', 'мне', ...])),\n",
      "                ('logisticregression',\n",
      "                 LogisticRegression(C=4, class_weight='balanced', max_iter=5000,\n",
      "                                    penalty='l1', solver='saga'))])\n"
     ]
    }
   ],
   "source": [
    "\n",
    "\n",
    "gs_lr.fit(train_x, train_y)\n",
    "print('accuracy', gs_lr.best_score_)\n",
    "print('Best model parameters', gs_lr.best_estimator_)\n"
   ]
  },
  {
   "cell_type": "code",
   "execution_count": 52,
   "id": "e53c98d5",
   "metadata": {},
   "outputs": [],
   "source": [
    "pred = gs_lr.predict(test_x)"
   ]
  },
  {
   "cell_type": "code",
   "execution_count": 61,
   "id": "82ccc5e3",
   "metadata": {},
   "outputs": [],
   "source": [
    "def print_results(target ,pred):\n",
    "\n",
    "    print(\"Accuracy:\", accuracy_score(target, pred))\n",
    "    print(\"Precision:\", precision_score(target, pred))\n",
    "    print(\"Recall:\", recall_score(target, pred))\n",
    "    print(\"F1 score:\", f1_score(target, pred))\n",
    "\n",
    "\n",
    "    plt.figure(figsize=(8, 8))\n",
    "    cm = confusion_matrix(target, pred)\n",
    "    sns.heatmap(cm, annot=True, fmt='d', cmap='Blues_r')\n",
    "    plt.ylabel('True label')\n",
    "    plt.xlabel('Predicted');\n",
    "    #plt.gca().yaxis.set_ticklabels(label_encoder.inverse_transform(range(0, 8)));\n",
    "    #plt.gca().xaxis.set_ticklabels(label_encoder.inverse_transform(range(0, 8)));\n",
    "    plt.show()"
   ]
  },
  {
   "cell_type": "code",
   "execution_count": 62,
   "id": "8dca6d13",
   "metadata": {},
   "outputs": [
    {
     "name": "stdout",
     "output_type": "stream",
     "text": [
      "Accuracy: 0.8580354043734815\n",
      "Precision: 0.8139810426540285\n",
      "Recall: 0.731629392971246\n",
      "F1 score: 0.770611329220415\n"
     ]
    },
    {
     "data": {
      "image/png": "[encoded data removed]",
      "text/plain": [
       "<Figure size 800x800 with 2 Axes>"
      ]
     },
     "metadata": {},
     "output_type": "display_data"
    }
   ],
   "source": [
    "print_results(test_y, pred)"
   ]
  },
  {
   "cell_type": "markdown",
   "id": "079c16dd",
   "metadata": {},
   "source": [
    "Вывод \n",
    "\n",
    "1 Количество Мажорного класа 0 (Не токсичный) превышает количество минорного класса 1 (Токсичного).\n",
    "\n",
    "2 Значения в столбце toxic перевели из float в int\n",
    "\n",
    "3 Для подготовки текста была проведена лемматизация текста и очистка текста от знаков припенания \n",
    "\n",
    "4 В виду наличия комментариев не на русском зыке а так же состоящих из чисел и рандомных букв. При лемматизация текста   получились пропуски в количестве 8 штук\n",
    "\n",
    "5 В лемматезированном тексте было выявлено наличие  268 дубликатов. \n",
    "\n",
    "6 Пропуски и дубликаты были удалены\n",
    "\n",
    "7 Проделано преобразование TF-IDF\n",
    "\n",
    "8 Разделили данные 80 на 20 для обучение модели \n",
    "\n",
    "8.1  В виду наличие большой разности между количеством классов. Будем использовать логистическую регресию с параметром \n",
    "class_weight='balanced'\n",
    "\n",
    "8.2 Для обучени я модели с использованием GridSearchCV проводился подбор гипер параметров\n",
    "\n",
    "8.3 Лучшая модель LogisticRegression(C=4, class_weight='balanced', max_iter=5000,\n",
    "                                    penalty='l1', solver='saga'))\n",
    "\n",
    "\n",
    "8.4 Результаты\n",
    "\n",
    "Accuracy: 0.8580354043734815\n",
    "\n",
    "Precision: 0.8139810426540285\n",
    "\n",
    "Recall: 0.731629392971246\n",
    "\n",
    "F1 score: 0.770611329220415\n",
    "\n"
   ]
  },
  {
   "cell_type": "code",
   "execution_count": null,
   "id": "aec06b01",
   "metadata": {},
   "outputs": [],
   "source": []
  }
 ],
 "metadata": {
  "kernelspec": {
   "display_name": "Python 3 (ipykernel)",
   "language": "python",
   "name": "python3"
  },
  "language_info": {
   "codemirror_mode": {
    "name": "ipython",
    "version": 3
   },
   "file_extension": ".py",
   "mimetype": "text/x-python",
   "name": "python",
   "nbconvert_exporter": "python",
   "pygments_lexer": "ipython3",
   "version": "3.11.5"
  }
 },
 "nbformat": 4,
 "nbformat_minor": 5
}
